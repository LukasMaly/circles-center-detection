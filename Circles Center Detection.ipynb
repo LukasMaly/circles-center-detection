{
 "cells": [
  {
   "cell_type": "markdown",
   "metadata": {
    "scrolled": true
   },
   "source": [
    "# Concentric Circles Center Detection\n",
    "\n",
    "This is a Python implementation of the algorithm for concentric circles center \n",
    "detection proposed in https://mathematica.stackexchange.com/a/27013."
   ]
  },
  {
   "cell_type": "code",
   "execution_count": null,
   "metadata": {},
   "outputs": [],
   "source": [
    "from urllib.request import urlopen\n",
    "\n",
    "import cv2\n",
    "import numpy as np\n",
    "import matplotlib.pyplot as plt"
   ]
  },
  {
   "cell_type": "code",
   "execution_count": null,
   "metadata": {},
   "outputs": [],
   "source": [
    "resp = urlopen('http://i.stack.imgur.com/wAPnJ.png')\n",
    "img = np.asarray(bytearray(resp.read()), dtype=\"uint8\")\n",
    "img = cv2.imdecode(img, cv2.IMREAD_GRAYSCALE)\n",
    "plt.imshow(img, cmap='gray')\n",
    "plt.show()"
   ]
  },
  {
   "cell_type": "code",
   "execution_count": null,
   "metadata": {},
   "outputs": [],
   "source": [
    "height, width = img.shape[:2]"
   ]
  },
  {
   "cell_type": "code",
   "execution_count": null,
   "metadata": {},
   "outputs": [],
   "source": [
    "x = np.array([list(range(1, width + 1))] * height)\n",
    "y = np.array([[i] * width for i in range(1, height + 1)])\n",
    "gx = cv2.Sobel(img, cv2.CV_32F, 1, 0)\n",
    "gy = cv2.Sobel(img, cv2.CV_32F, 0, 1)\n",
    "fig, ax = plt.subplots(1, 2)\n",
    "ax[0].imshow(gx, cmap='gray')\n",
    "ax[1].imshow(gy, cmap='gray')\n",
    "plt.show()"
   ]
  },
  {
   "cell_type": "code",
   "execution_count": null,
   "metadata": {},
   "outputs": [],
   "source": [
    "# {{{gy^2, - gx gy}, {- gx gy, gx^2}}, {gy^2 x - gx gy y, - gx gy x + gx^2 y}}\n",
    "a11 = np.sum(gy ** 2)\n",
    "a12 = np.sum(- gx * gy)\n",
    "a21 = np.sum(- gx * gy)\n",
    "a22 = np.sum(gx ** 2)\n",
    "b1 = np.sum(gy ** 2 * x - gx * gy * y)\n",
    "b2 = np.sum(- gx * gy * x + gx ** 2 * y)\n",
    "a = np.array([[a11, a12], [a21, a22]])\n",
    "b = np.array([b1, b2])\n",
    "(x, y) = np.linalg.solve(a, b)"
   ]
  },
  {
   "cell_type": "code",
   "execution_count": null,
   "metadata": {},
   "outputs": [],
   "source": [
    "print(x, y)\n",
    "img = cv2.cvtColor(img, cv2.COLOR_GRAY2RGB)\n",
    "cv2.circle(img, (int(x), int(y)), 3, (255, 0, 0), -1)\n",
    "plt.imshow(img)\n",
    "plt.show()"
   ]
  },
  {
   "cell_type": "markdown",
   "metadata": {},
   "source": [
    "# Circular Lines Intersection Detection\n",
    "\n",
    "This is a Python implementation of the algorithm for circlular lines \n",
    "interstion detection proposed in https://mathematica.stackexchange.com/a/23461."
   ]
  },
  {
   "cell_type": "code",
   "execution_count": null,
   "metadata": {
    "scrolled": true
   },
   "outputs": [],
   "source": [
    "resp = urlopen('http://i.stack.imgur.com/i050B.png')\n",
    "img = np.asarray(bytearray(resp.read()), dtype=\"uint8\")\n",
    "img = cv2.imdecode(img, cv2.IMREAD_GRAYSCALE)\n",
    "plt.imshow(img, cmap='gray')\n",
    "plt.show()"
   ]
  },
  {
   "cell_type": "code",
   "execution_count": null,
   "metadata": {},
   "outputs": [],
   "source": [
    "height, width = img.shape[:2]"
   ]
  },
  {
   "cell_type": "code",
   "execution_count": null,
   "metadata": {},
   "outputs": [],
   "source": [
    "x = np.array([list(range(1, width + 1))] * height)\n",
    "y = np.array([[i] * width for i in range(1, height + 1)])\n",
    "gx = cv2.Sobel(img, cv2.CV_32F, 1, 0)\n",
    "gy = cv2.Sobel(img, cv2.CV_32F, 0, 1)\n",
    "fig, ax = plt.subplots(1, 2)\n",
    "ax[0].imshow(gx, cmap='gray')\n",
    "ax[1].imshow(gy, cmap='gray')\n",
    "plt.show()"
   ]
  },
  {
   "cell_type": "code",
   "execution_count": null,
   "metadata": {},
   "outputs": [],
   "source": [
    "# {{{2 gx^2, 2 gx gy}, {2 gx gy, 2 gy^2}}, {2 gx^2 x + 2 gx gy y, 2 gx gy x + 2 gy^2 y}}\n",
    "a11 = np.sum(2 * gx ** 2)\n",
    "a12 = np.sum(2 * gx * gy)\n",
    "a21 = np.sum(2 * gx * gy)\n",
    "a22 = np.sum(2 * gy ** 2)\n",
    "b1 = np.sum(2 * gx ** 2 * x + 2 * gx * gy * y)\n",
    "b2 = np.sum(2 * gx * gy * y + 2 * gy ** 2 * y)\n",
    "a = np.array([[a11, a12], [a21, a22]])\n",
    "b = np.array([b1, b2])\n",
    "(x, y) = np.linalg.solve(a, b)"
   ]
  },
  {
   "cell_type": "code",
   "execution_count": null,
   "metadata": {},
   "outputs": [],
   "source": [
    "print(x, y)\n",
    "img = cv2.cvtColor(img, cv2.COLOR_GRAY2RGB)\n",
    "cv2.circle(img, (int(x), int(y)), 3, (255, 0, 0), -1)\n",
    "plt.imshow(img)\n",
    "plt.show()"
   ]
  }
 ],
 "metadata": {
  "file_extension": ".py",
  "kernelspec": {
   "display_name": "Python 3",
   "language": "python",
   "name": "python3"
  },
  "language_info": {
   "codemirror_mode": {
    "name": "ipython",
    "version": 3
   },
   "file_extension": ".py",
   "mimetype": "text/x-python",
   "name": "python",
   "nbconvert_exporter": "python",
   "pygments_lexer": "ipython3",
   "version": "3.7.4"
  },
  "mimetype": "text/x-python",
  "name": "python",
  "npconvert_exporter": "python",
  "pygments_lexer": "ipython3",
  "version": 3
 },
 "nbformat": 4,
 "nbformat_minor": 2
}
